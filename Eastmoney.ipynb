{
 "cells": [
  {
   "cell_type": "code",
   "execution_count": 1,
   "metadata": {},
   "outputs": [],
   "source": [
    "import os\n",
    "from numpy.lib.arraysetops import ediff1d\n",
    "import requests\n",
    "import time\n",
    "import pandas as pd\n",
    "import traceback\n",
    "import prettytable as pt\n",
    "\n",
    "import pickle\n"
   ]
  },
  {
   "cell_type": "code",
   "execution_count": 2,
   "metadata": {},
   "outputs": [],
   "source": [
    "pd.set_option('display.max_columns', None)\n",
    "pd.set_option('display.max_rows', None)"
   ]
  },
  {
   "cell_type": "code",
   "execution_count": 3,
   "metadata": {},
   "outputs": [],
   "source": [
    "\n",
    "def Requests(url,headers={'User-Agent':'Mozilla/5.0 (Windows NT 10.0; Win64; x64) AppleWebKit/537.36 (KHTML, like Gecko) Chrome/89.0.4389.82 Safari/537.36 Edg/89.0.774.50'}):\n",
    "    error_time = 0\n",
    "    while True:\n",
    "        try:\n",
    "            r = requests.get(url,headers=headers,timeout=10)\n",
    "            return r\n",
    "        except:\n",
    "            error_time += 1\n",
    "            print(\"reconnect：\",error_time)\n",
    "            time.sleep(2)\n",
    "            if error_time > 5:\n",
    "                return requests.Response()\n"
   ]
  },
  {
   "cell_type": "code",
   "execution_count": 4,
   "metadata": {},
   "outputs": [],
   "source": [
    "def Int(num_str):\n",
    "    try:\n",
    "        return int(num_str)\n",
    "    except:\n",
    "        return 0"
   ]
  },
  {
   "cell_type": "code",
   "execution_count": 5,
   "metadata": {},
   "outputs": [],
   "source": [
    "#general function to scrap data from Eastmoney\n",
    "def get_data():\n",
    "    df = pd.DataFrame({\"code\":[],\"name\":[],\"no. of attending institutions\":[],\"meeting date\":[],\"announcement date\":[]})\n",
    "    count = 0\n",
    "    for i in range(1,1000):\n",
    "        page_size = 50000   #maximum no of announcement downloaded each time\n",
    "\n",
    "        url = f\"http://datainterface3.eastmoney.com/EM_DataCenter_V3/api/JGDYHZ/GetJGDYMX?tkn=eastmoney&secuCode=&sortfield=0&sortdirec=1&pageNum={i}&pageSize={page_size}&cfg=jgdyhz&p=3&pageNo={i}\"\n",
    "        r = Requests(url)\n",
    "        js = r.json()\n",
    "        if js[\"Data\"][0][\"TotalPage\"] == 0: #go through the whole database\n",
    "            break\n",
    "        print(f\"{i*page_size}announcements scrapped.....\\r\",end=\"\")\n",
    "        header = js[\"Data\"][0][\"FieldName\"].split(\",\")\n",
    "        code_index = header.index(\"SCode\")\n",
    "        name_index = header.index(\"SName\")\n",
    "        No_index = header.index(\"OrgSum\")\n",
    "        meet_date_index = header.index(\"StartDate\")\n",
    "        notice_date_index = header.index(\"NoticeDate\")\n",
    "\n",
    "        for row in js[\"Data\"][0][\"Data\"]:\n",
    "            # print(count)\n",
    "            row_list = row.split(\"|\")\n",
    "            scode = row_list[code_index]\n",
    "            sname = row_list[name_index]\n",
    "            No_ins = Int(row_list[No_index])\n",
    "            meet_date = row_list[meet_date_index]\n",
    "            notice_date = row_list[notice_date_index]\n",
    "            df.loc[count] = [scode,sname,No_ins,pd.Timestamp(meet_date),notice_date]\n",
    "            print(f\"reading{count}announcement.....\\r\",end=\"\")\n",
    "            count += 1\n",
    "    df.index = df[\"meeting date\"]\n",
    "    print(\"\")\n",
    "    df[\"year\"] = df.index.year\n",
    "    df[\"month\"] = df.index.month\n",
    "    df.sort_index(inplace=True)\n",
    "    with open(\"all_data.pkl\",\"wb\") as f:\n",
    "        pickle.dump(df,f)\n",
    "    return df"
   ]
  },
  {
   "cell_type": "code",
   "execution_count": 6,
   "metadata": {},
   "outputs": [],
   "source": [
    "#task 2: count the monthly meetings of a given stock\n",
    "def get_scode(df,scode,year):\n",
    "    df_son = df[(df[\"code\"] == scode) & (df[\"year\"]==int(year))]\n",
    "    df_son.to_csv(f\"{scode}_{year}annual meetings.csv\",encoding=\"utf_8_sig\")\n",
    "    #save all meetings from a given year\n",
    "\n",
    "    result_df = pd.DataFrame({\"code\":[],\"name\":[],\"year\":[],\"month\":[],\"sum\":[]})\n",
    "    result_df[\"month\"] = list(range(1,13))\n",
    "    result_df.index = result_df[\"month\"]\n",
    "    result_df[\"sum\"] = df_son[\"no. of attending institutions\"].groupby(df_son[\"month\"]).sum()\n",
    "    result_df[\"code\"] = scode\n",
    "    result_df[\"name\"] = df_son[\"name\"][0]\n",
    "    result_df[\"year\"] = year\n",
    "    result_df[\"sum\"].fillna(0,inplace=True)\n",
    "\n",
    "    \n",
    "    #output table\n",
    "    tb = pt.PrettyTable()  \n",
    "    # print(tb)\n",
    "    # print(result_df)\n",
    "    # print(list(result_df.columns.values))\n",
    "    for col in result_df.columns.values:    \n",
    "        tb.add_column(col, list(result_df[col]))\n",
    "    print(tb)\n",
    "    "
   ]
  },
  {
   "cell_type": "code",
   "execution_count": 7,
   "metadata": {},
   "outputs": [],
   "source": [
    "#task 1: present all meetings on one single day\n",
    "def get_day(df,date):\n",
    "    son_df = df[df.index == date]\n",
    "    son_df = son_df[[\"code\",\"name\",\"no. of attending institutions\",\"meeting date\",\"announcement date\"]]\n",
    "\n",
    "    tb = pt.PrettyTable()       \n",
    "    tb.add_column('dates',son_df.index)\n",
    "    for col in son_df.columns.values:    \n",
    "        tb.add_column(col, list(son_df[col]))\n",
    "    print(tb)\n"
   ]
  },
  {
   "cell_type": "code",
   "execution_count": null,
   "metadata": {},
   "outputs": [
    {
     "name": "stdout",
     "output_type": "stream",
     "text": [
      "***** Eastmoney data scraper *****\n",
      "Data loaded\n"
     ]
    },
    {
     "name": "stdin",
     "output_type": "stream",
     "text": [
      "Input date(YYYYMMDD) to scrap all meetings today or code+year(xxxxxx+YYYY) for meetings of a specific stock in a year: 601139+2021\n"
     ]
    },
    {
     "name": "stdout",
     "output_type": "stream",
     "text": [
      "scrapping all meetings for 601139 on 2021\n",
      "+--------+----------+------+-------+-----+\n",
      "|  code  |   name   | year | month | sum |\n",
      "+--------+----------+------+-------+-----+\n",
      "| 601139 | 深圳燃气 | 2021 |   1   | 5.0 |\n",
      "| 601139 | 深圳燃气 | 2021 |   2   | 0.0 |\n",
      "| 601139 | 深圳燃气 | 2021 |   3   | 0.0 |\n",
      "| 601139 | 深圳燃气 | 2021 |   4   | 0.0 |\n",
      "| 601139 | 深圳燃气 | 2021 |   5   | 0.0 |\n",
      "| 601139 | 深圳燃气 | 2021 |   6   | 0.0 |\n",
      "| 601139 | 深圳燃气 | 2021 |   7   | 0.0 |\n",
      "| 601139 | 深圳燃气 | 2021 |   8   | 0.0 |\n",
      "| 601139 | 深圳燃气 | 2021 |   9   | 0.0 |\n",
      "| 601139 | 深圳燃气 | 2021 |   10  | 0.0 |\n",
      "| 601139 | 深圳燃气 | 2021 |   11  | 0.0 |\n",
      "| 601139 | 深圳燃气 | 2021 |   12  | 0.0 |\n",
      "+--------+----------+------+-------+-----+\n"
     ]
    },
    {
     "name": "stdin",
     "output_type": "stream",
     "text": [
      "Input date(YYYYMMDD) to scrap all meetings today or code+year(xxxxxx+YYYY) for meetings of a specific stock in a year: 300750+2021\n"
     ]
    },
    {
     "name": "stdout",
     "output_type": "stream",
     "text": [
      "scrapping all meetings for 300750 on 2021\n",
      "+--------+----------+------+-------+------+\n",
      "|  code  |   name   | year | month | sum  |\n",
      "+--------+----------+------+-------+------+\n",
      "| 300750 | 宁德时代 | 2021 |   1   | 0.0  |\n",
      "| 300750 | 宁德时代 | 2021 |   2   | 0.0  |\n",
      "| 300750 | 宁德时代 | 2021 |   3   | 0.0  |\n",
      "| 300750 | 宁德时代 | 2021 |   4   | 0.0  |\n",
      "| 300750 | 宁德时代 | 2021 |   5   | 34.0 |\n",
      "| 300750 | 宁德时代 | 2021 |   6   | 0.0  |\n",
      "| 300750 | 宁德时代 | 2021 |   7   | 0.0  |\n",
      "| 300750 | 宁德时代 | 2021 |   8   | 0.0  |\n",
      "| 300750 | 宁德时代 | 2021 |   9   | 0.0  |\n",
      "| 300750 | 宁德时代 | 2021 |   10  | 0.0  |\n",
      "| 300750 | 宁德时代 | 2021 |   11  | 0.0  |\n",
      "| 300750 | 宁德时代 | 2021 |   12  | 0.0  |\n",
      "+--------+----------+------+-------+------+\n"
     ]
    },
    {
     "name": "stdin",
     "output_type": "stream",
     "text": [
      "Input date(YYYYMMDD) to scrap all meetings today or code+year(xxxxxx+YYYY) for meetings of a specific stock in a year: 20210807\n"
     ]
    },
    {
     "name": "stdout",
     "output_type": "stream",
     "text": [
      "scraping all meetings on 20210807\n",
      "+-------+------+------+-------------------------------+--------------+-------------------+\n",
      "| dates | code | name | no. of attending institutions | meeting date | announcement date |\n",
      "+-------+------+------+-------------------------------+--------------+-------------------+\n",
      "+-------+------+------+-------------------------------+--------------+-------------------+\n"
     ]
    },
    {
     "name": "stdin",
     "output_type": "stream",
     "text": [
      "Input date(YYYYMMDD) to scrap all meetings today or code+year(xxxxxx+YYYY) for meetings of a specific stock in a year: 20210804\n"
     ]
    },
    {
     "name": "stdout",
     "output_type": "stream",
     "text": [
      "scraping all meetings on 20210804\n",
      "+---------------------+--------+----------+-------------------------------+---------------------+-------------------+\n",
      "|        dates        |  code  |   name   | no. of attending institutions |     meeting date    | announcement date |\n",
      "+---------------------+--------+----------+-------------------------------+---------------------+-------------------+\n",
      "| 2021-08-04 00:00:00 | 001203 | 大中矿业 |              1.0              | 2021-08-04 00:00:00 |     2021-08-05    |\n",
      "| 2021-08-04 00:00:00 | 002860 |  星帅尔  |              4.0              | 2021-08-04 00:00:00 |     2021-08-06    |\n",
      "| 2021-08-04 00:00:00 | 002688 | 金河生物 |              1.0              | 2021-08-04 00:00:00 |     2021-08-05    |\n",
      "| 2021-08-04 00:00:00 | 300441 | 鲍斯股份 |              2.0              | 2021-08-04 00:00:00 |     2021-08-05    |\n",
      "| 2021-08-04 00:00:00 | 002345 |  潮宏基  |              2.0              | 2021-08-04 00:00:00 |     2021-08-05    |\n",
      "| 2021-08-04 00:00:00 | 002266 | 浙富控股 |              2.0              | 2021-08-04 00:00:00 |     2021-08-05    |\n",
      "| 2021-08-04 00:00:00 | 300508 | 维宏股份 |              1.0              | 2021-08-04 00:00:00 |     2021-08-05    |\n",
      "| 2021-08-04 00:00:00 | 300723 |  一品红  |              1.0              | 2021-08-04 00:00:00 |     2021-08-05    |\n",
      "| 2021-08-04 00:00:00 | 002837 |  英维克  |             111.0             | 2021-08-04 00:00:00 |     2021-08-04    |\n",
      "| 2021-08-04 00:00:00 | 002130 | 沃尔核材 |              1.0              | 2021-08-04 00:00:00 |     2021-08-05    |\n",
      "| 2021-08-04 00:00:00 | 002425 | 凯撒文化 |              13.0             | 2021-08-04 00:00:00 |     2021-08-05    |\n",
      "| 2021-08-04 00:00:00 | 300529 | 健帆生物 |              43.0             | 2021-08-04 00:00:00 |     2021-08-06    |\n",
      "| 2021-08-04 00:00:00 | 300459 | 金科文化 |              2.0              | 2021-08-04 00:00:00 |     2021-08-04    |\n",
      "| 2021-08-04 00:00:00 | 300040 | 九洲集团 |              5.0              | 2021-08-04 00:00:00 |     2021-08-05    |\n",
      "+---------------------+--------+----------+-------------------------------+---------------------+-------------------+\n"
     ]
    }
   ],
   "source": [
    "def main():\n",
    "    print(\"*\"*5,\"Eastmoney data scraper\",\"*\"*5)\n",
    "    if os.path.exists(\"all_data.pkl\"):\n",
    "        print(\"Data loaded\")\n",
    "        with open(\"all_data.pkl\",\"rb\") as f:\n",
    "            df = pickle.load(f)\n",
    "    else:\n",
    "        print(\"Downloading...\")\n",
    "        df = get_data()\n",
    "\n",
    "    while True:\n",
    "        try:\n",
    "            input_str = input(\"Input date(YYYYMMDD) to scrap all meetings today or code+year(xxxxxx+YYYY) for meetings of a specific stock in a year:\")\n",
    "            input_str = input_str.strip()\n",
    "            if len(input_str) == 8:\n",
    "                print(f\"scraping all meetings on {input_str}\")\n",
    "                get_day(df,input_str)\n",
    "            else:\n",
    "                scode = input_str.split(\"+\")[0]\n",
    "                year = input_str.split(\"+\")[1]\n",
    "                print(f\"scrapping all meetings for {scode} on {year}\")\n",
    "                get_scode(df,scode,year)\n",
    "        except Exception as e:\n",
    "            print(traceback.format_exc())\n",
    "\n",
    "if __name__ == \"__main__\":\n",
    "    main()"
   ]
  },
  {
   "cell_type": "code",
   "execution_count": null,
   "metadata": {},
   "outputs": [],
   "source": []
  }
 ],
 "metadata": {
  "kernelspec": {
   "display_name": "Python 3",
   "language": "python",
   "name": "python3"
  },
  "language_info": {
   "codemirror_mode": {
    "name": "ipython",
    "version": 3
   },
   "file_extension": ".py",
   "mimetype": "text/x-python",
   "name": "python",
   "nbconvert_exporter": "python",
   "pygments_lexer": "ipython3",
   "version": "3.7.4"
  }
 },
 "nbformat": 4,
 "nbformat_minor": 4
}
